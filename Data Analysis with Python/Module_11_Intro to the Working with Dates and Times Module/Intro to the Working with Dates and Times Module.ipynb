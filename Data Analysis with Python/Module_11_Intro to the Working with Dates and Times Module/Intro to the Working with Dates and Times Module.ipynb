{
 "cells": [
  {
   "cell_type": "code",
   "execution_count": 224,
   "metadata": {},
   "outputs": [],
   "source": [
    "import pandas as pd\n",
    "import numpy as np\n",
    "import datetime as dt #python module and not triggered automatically unless specified\n",
    "from pandas_datareader import data as dr\n",
    "import matplotlib.pyplot as plt\n",
    "from pandas.tseries.offsets import *"
   ]
  },
  {
   "cell_type": "markdown",
   "metadata": {},
   "source": [
    "# Review of Python's datetime Module"
   ]
  },
  {
   "cell_type": "code",
   "execution_count": 2,
   "metadata": {},
   "outputs": [],
   "source": [
    "someday = dt.date(2016, 1, 5) #year, month, date"
   ]
  },
  {
   "cell_type": "code",
   "execution_count": 3,
   "metadata": {},
   "outputs": [
    {
     "data": {
      "text/plain": [
       "1"
      ]
     },
     "execution_count": 3,
     "metadata": {},
     "output_type": "execute_result"
    }
   ],
   "source": [
    "someday.year #year\n",
    "\n",
    "someday.day #date\n",
    "\n",
    "someday.month #month"
   ]
  },
  {
   "cell_type": "code",
   "execution_count": 10,
   "metadata": {},
   "outputs": [],
   "source": [
    "datetim = dt.datetime(2010, 10, 20, 4, 5, 57) #year, month, date, hour, minute"
   ]
  },
  {
   "cell_type": "code",
   "execution_count": 13,
   "metadata": {},
   "outputs": [
    {
     "data": {
      "text/plain": [
       "57"
      ]
     },
     "execution_count": 13,
     "metadata": {},
     "output_type": "execute_result"
    }
   ],
   "source": [
    "datetim.year\n",
    "datetim.month\n",
    "datetim.day\n",
    "datetim.hour\n",
    "datetim.minute\n",
    "datetim.second"
   ]
  },
  {
   "cell_type": "code",
   "execution_count": 12,
   "metadata": {},
   "outputs": [],
   "source": [
    "# The pandas Timestamp Object"
   ]
  },
  {
   "cell_type": "code",
   "execution_count": 16,
   "metadata": {},
   "outputs": [
    {
     "data": {
      "text/plain": [
       "Timestamp('2010-10-20 04:05:57')"
      ]
     },
     "execution_count": 16,
     "metadata": {},
     "output_type": "execute_result"
    }
   ],
   "source": [
    "pd.Timestamp(datetim)"
   ]
  },
  {
   "cell_type": "code",
   "execution_count": 24,
   "metadata": {},
   "outputs": [
    {
     "data": {
      "text/plain": [
       "Timestamp('1996-08-02 04:05:57')"
      ]
     },
     "execution_count": 24,
     "metadata": {},
     "output_type": "execute_result"
    }
   ],
   "source": [
    "pd.Timestamp('1996-8-2 04:05:57')"
   ]
  },
  {
   "cell_type": "code",
   "execution_count": 22,
   "metadata": {},
   "outputs": [
    {
     "data": {
      "text/plain": [
       "Timestamp('1996-08-02 00:00:00')"
      ]
     },
     "execution_count": 22,
     "metadata": {},
     "output_type": "execute_result"
    }
   ],
   "source": [
    "pd.Timestamp(dt.datetime(1996, 8, 2,))"
   ]
  },
  {
   "cell_type": "markdown",
   "metadata": {},
   "source": [
    "# The pandas DateTimeIndex Object"
   ]
  },
  {
   "cell_type": "code",
   "execution_count": 25,
   "metadata": {},
   "outputs": [],
   "source": [
    "dates = [\"2016-01-02\", \"2016-01-21\" ,\"2016-01-26\" ,\"2016-01-31\"]"
   ]
  },
  {
   "cell_type": "code",
   "execution_count": 26,
   "metadata": {},
   "outputs": [
    {
     "data": {
      "text/plain": [
       "['2016-01-02', '2016-01-21', '2016-01-26', '2016-01-31']"
      ]
     },
     "execution_count": 26,
     "metadata": {},
     "output_type": "execute_result"
    }
   ],
   "source": [
    "dates"
   ]
  },
  {
   "cell_type": "code",
   "execution_count": 28,
   "metadata": {},
   "outputs": [],
   "source": [
    "date_index = pd.DatetimeIndex(dates)"
   ]
  },
  {
   "cell_type": "code",
   "execution_count": 49,
   "metadata": {},
   "outputs": [],
   "source": [
    "values = np.array([115, 219, 347, 498])"
   ]
  },
  {
   "cell_type": "code",
   "execution_count": 50,
   "metadata": {},
   "outputs": [
    {
     "data": {
      "text/plain": [
       "array([115, 219, 347, 498])"
      ]
     },
     "execution_count": 50,
     "metadata": {},
     "output_type": "execute_result"
    }
   ],
   "source": [
    "values"
   ]
  },
  {
   "cell_type": "code",
   "execution_count": 51,
   "metadata": {
    "scrolled": true
   },
   "outputs": [
    {
     "data": {
      "text/plain": [
       "2016-01-02    115\n",
       "2016-01-21    219\n",
       "2016-01-26    347\n",
       "2016-01-31    498\n",
       "dtype: int32"
      ]
     },
     "execution_count": 51,
     "metadata": {},
     "output_type": "execute_result"
    }
   ],
   "source": [
    "pd.Series(data = values, index = date_index)"
   ]
  },
  {
   "cell_type": "code",
   "execution_count": 59,
   "metadata": {},
   "outputs": [],
   "source": [
    "times =  pd.to_datetime([\"2016-01-02\", \"2016-01-21\" ,\"2016-01-26\" ,\"2016-01-31\"])"
   ]
  },
  {
   "cell_type": "code",
   "execution_count": 62,
   "metadata": {},
   "outputs": [
    {
     "data": {
      "text/plain": [
       "0   2016-01-02\n",
       "1   2016-01-21\n",
       "2   2016-01-26\n",
       "3   2016-01-31\n",
       "dtype: datetime64[ns]"
      ]
     },
     "execution_count": 62,
     "metadata": {},
     "output_type": "execute_result"
    }
   ],
   "source": [
    "pd.Series(times)"
   ]
  },
  {
   "cell_type": "markdown",
   "metadata": {},
   "source": [
    "# Create Range of Dates with the pd.date_range() Method, Part 1"
   ]
  },
  {
   "cell_type": "code",
   "execution_count": 110,
   "metadata": {},
   "outputs": [],
   "source": [
    "range = pd.date_range(start = \"1996-08-02\", end =\"2019-01-12\", freq = \"H\") # B- BUSINESS DAYS, W- WEEKS, H -HOUR A - YEAR, M-MONTH"
   ]
  },
  {
   "cell_type": "code",
   "execution_count": 103,
   "metadata": {},
   "outputs": [
    {
     "data": {
      "text/plain": [
       "pandas.core.indexes.datetimes.DatetimeIndex"
      ]
     },
     "execution_count": 103,
     "metadata": {},
     "output_type": "execute_result"
    }
   ],
   "source": [
    "type(range)"
   ]
  },
  {
   "cell_type": "code",
   "execution_count": 104,
   "metadata": {},
   "outputs": [
    {
     "data": {
      "text/plain": [
       "Timestamp('1996-08-02 01:00:00', freq='H')"
      ]
     },
     "execution_count": 104,
     "metadata": {},
     "output_type": "execute_result"
    }
   ],
   "source": [
    "range[1]"
   ]
  },
  {
   "cell_type": "code",
   "execution_count": 112,
   "metadata": {},
   "outputs": [
    {
     "data": {
      "text/plain": [
       "DatetimeIndex(['1996-08-02 00:00:00', '1996-08-02 06:00:00',\n",
       "               '1996-08-02 12:00:00', '1996-08-02 18:00:00',\n",
       "               '1996-08-03 00:00:00', '1996-08-03 06:00:00',\n",
       "               '1996-08-03 12:00:00', '1996-08-03 18:00:00',\n",
       "               '1996-08-04 00:00:00', '1996-08-04 06:00:00',\n",
       "               '1996-08-04 12:00:00', '1996-08-04 18:00:00',\n",
       "               '1996-08-05 00:00:00', '1996-08-05 06:00:00',\n",
       "               '1996-08-05 12:00:00', '1996-08-05 18:00:00',\n",
       "               '1996-08-06 00:00:00', '1996-08-06 06:00:00',\n",
       "               '1996-08-06 12:00:00', '1996-08-06 18:00:00',\n",
       "               '1996-08-07 00:00:00', '1996-08-07 06:00:00',\n",
       "               '1996-08-07 12:00:00', '1996-08-07 18:00:00',\n",
       "               '1996-08-08 00:00:00', '1996-08-08 06:00:00',\n",
       "               '1996-08-08 12:00:00', '1996-08-08 18:00:00',\n",
       "               '1996-08-09 00:00:00', '1996-08-09 06:00:00',\n",
       "               '1996-08-09 12:00:00'],\n",
       "              dtype='datetime64[ns]', freq='6H')"
      ]
     },
     "execution_count": 112,
     "metadata": {},
     "output_type": "execute_result"
    }
   ],
   "source": [
    "pd.date_range(start = \"1996-08-02\", periods = 31, freq = \"6H\")"
   ]
  },
  {
   "cell_type": "code",
   "execution_count": 129,
   "metadata": {},
   "outputs": [],
   "source": [
    "timely = pd.date_range(start = \"1996-08-02\", end =\"2019-01-12\", freq = \"24D\")"
   ]
  },
  {
   "cell_type": "code",
   "execution_count": 130,
   "metadata": {},
   "outputs": [],
   "source": [
    "s = pd.Series(timely)"
   ]
  },
  {
   "cell_type": "code",
   "execution_count": 132,
   "metadata": {
    "scrolled": true
   },
   "outputs": [
    {
     "data": {
      "text/plain": [
       "<bound method NDFrame.head of 0     1996-08-02\n",
       "1     1996-08-26\n",
       "2     1996-09-19\n",
       "3     1996-10-13\n",
       "4     1996-11-06\n",
       "5     1996-11-30\n",
       "6     1996-12-24\n",
       "7     1997-01-17\n",
       "8     1997-02-10\n",
       "9     1997-03-06\n",
       "10    1997-03-30\n",
       "11    1997-04-23\n",
       "12    1997-05-17\n",
       "13    1997-06-10\n",
       "14    1997-07-04\n",
       "15    1997-07-28\n",
       "16    1997-08-21\n",
       "17    1997-09-14\n",
       "18    1997-10-08\n",
       "19    1997-11-01\n",
       "20    1997-11-25\n",
       "21    1997-12-19\n",
       "22    1998-01-12\n",
       "23    1998-02-05\n",
       "24    1998-03-01\n",
       "25    1998-03-25\n",
       "26    1998-04-18\n",
       "27    1998-05-12\n",
       "28    1998-06-05\n",
       "29    1998-06-29\n",
       "         ...    \n",
       "312   2017-02-01\n",
       "313   2017-02-25\n",
       "314   2017-03-21\n",
       "315   2017-04-14\n",
       "316   2017-05-08\n",
       "317   2017-06-01\n",
       "318   2017-06-25\n",
       "319   2017-07-19\n",
       "320   2017-08-12\n",
       "321   2017-09-05\n",
       "322   2017-09-29\n",
       "323   2017-10-23\n",
       "324   2017-11-16\n",
       "325   2017-12-10\n",
       "326   2018-01-03\n",
       "327   2018-01-27\n",
       "328   2018-02-20\n",
       "329   2018-03-16\n",
       "330   2018-04-09\n",
       "331   2018-05-03\n",
       "332   2018-05-27\n",
       "333   2018-06-20\n",
       "334   2018-07-14\n",
       "335   2018-08-07\n",
       "336   2018-08-31\n",
       "337   2018-09-24\n",
       "338   2018-10-18\n",
       "339   2018-11-11\n",
       "340   2018-12-05\n",
       "341   2018-12-29\n",
       "Length: 342, dtype: datetime64[ns]>"
      ]
     },
     "execution_count": 132,
     "metadata": {},
     "output_type": "execute_result"
    }
   ],
   "source": [
    "s.head"
   ]
  },
  {
   "cell_type": "code",
   "execution_count": 135,
   "metadata": {
    "scrolled": true
   },
   "outputs": [
    {
     "data": {
      "text/plain": [
       "0      31\n",
       "1      31\n",
       "2      30\n",
       "3      31\n",
       "4      30\n",
       "5      30\n",
       "6      31\n",
       "7      31\n",
       "8      28\n",
       "9      31\n",
       "10     31\n",
       "11     30\n",
       "12     31\n",
       "13     30\n",
       "14     31\n",
       "15     31\n",
       "16     31\n",
       "17     30\n",
       "18     31\n",
       "19     30\n",
       "20     30\n",
       "21     31\n",
       "22     31\n",
       "23     28\n",
       "24     31\n",
       "25     31\n",
       "26     30\n",
       "27     31\n",
       "28     30\n",
       "29     30\n",
       "       ..\n",
       "312    28\n",
       "313    28\n",
       "314    31\n",
       "315    30\n",
       "316    31\n",
       "317    30\n",
       "318    30\n",
       "319    31\n",
       "320    31\n",
       "321    30\n",
       "322    30\n",
       "323    31\n",
       "324    30\n",
       "325    31\n",
       "326    31\n",
       "327    31\n",
       "328    28\n",
       "329    31\n",
       "330    30\n",
       "331    31\n",
       "332    31\n",
       "333    30\n",
       "334    31\n",
       "335    31\n",
       "336    31\n",
       "337    30\n",
       "338    31\n",
       "339    30\n",
       "340    31\n",
       "341    31\n",
       "Length: 342, dtype: int64"
      ]
     },
     "execution_count": 135,
     "metadata": {},
     "output_type": "execute_result"
    }
   ],
   "source": [
    "s.dt.daysinmonth"
   ]
  },
  {
   "cell_type": "code",
   "execution_count": 141,
   "metadata": {},
   "outputs": [
    {
     "data": {
      "text/plain": [
       "5     1996-11-30\n",
       "38    1999-01-31\n",
       "43    1999-05-31\n",
       "76    2001-07-31\n",
       "147   2006-03-31\n",
       "166   2007-06-30\n",
       "180   2008-05-31\n",
       "232   2011-10-31\n",
       "265   2013-12-31\n",
       "270   2014-04-30\n",
       "303   2016-06-30\n",
       "336   2018-08-31\n",
       "dtype: datetime64[ns]"
      ]
     },
     "execution_count": 141,
     "metadata": {},
     "output_type": "execute_result"
    }
   ],
   "source": [
    "mask = s.dt.is_month_end\n",
    "s[mask]"
   ]
  },
  {
   "cell_type": "markdown",
   "metadata": {},
   "source": [
    "# Install pandas-datareader Library"
   ]
  },
  {
   "cell_type": "code",
   "execution_count": 166,
   "metadata": {},
   "outputs": [],
   "source": [
    "TCS = dr.DataReader(name = \"TCS\", data_source = \"yahoo\", start = \"2019-01-01\", end = \"2019-01-10\")"
   ]
  },
  {
   "cell_type": "code",
   "execution_count": 167,
   "metadata": {},
   "outputs": [
    {
     "data": {
      "text/html": [
       "<div>\n",
       "<style scoped>\n",
       "    .dataframe tbody tr th:only-of-type {\n",
       "        vertical-align: middle;\n",
       "    }\n",
       "\n",
       "    .dataframe tbody tr th {\n",
       "        vertical-align: top;\n",
       "    }\n",
       "\n",
       "    .dataframe thead th {\n",
       "        text-align: right;\n",
       "    }\n",
       "</style>\n",
       "<table border=\"1\" class=\"dataframe\">\n",
       "  <thead>\n",
       "    <tr style=\"text-align: right;\">\n",
       "      <th></th>\n",
       "      <th>High</th>\n",
       "      <th>Low</th>\n",
       "      <th>Open</th>\n",
       "      <th>Close</th>\n",
       "      <th>Volume</th>\n",
       "      <th>Adj Close</th>\n",
       "    </tr>\n",
       "    <tr>\n",
       "      <th>Date</th>\n",
       "      <th></th>\n",
       "      <th></th>\n",
       "      <th></th>\n",
       "      <th></th>\n",
       "      <th></th>\n",
       "      <th></th>\n",
       "    </tr>\n",
       "  </thead>\n",
       "  <tbody>\n",
       "    <tr>\n",
       "      <th>2018-12-31</th>\n",
       "      <td>4.86</td>\n",
       "      <td>4.63</td>\n",
       "      <td>4.71</td>\n",
       "      <td>4.77</td>\n",
       "      <td>456500</td>\n",
       "      <td>4.77</td>\n",
       "    </tr>\n",
       "    <tr>\n",
       "      <th>2019-01-02</th>\n",
       "      <td>5.08</td>\n",
       "      <td>4.69</td>\n",
       "      <td>4.72</td>\n",
       "      <td>4.95</td>\n",
       "      <td>272500</td>\n",
       "      <td>4.95</td>\n",
       "    </tr>\n",
       "    <tr>\n",
       "      <th>2019-01-03</th>\n",
       "      <td>5.08</td>\n",
       "      <td>4.82</td>\n",
       "      <td>4.92</td>\n",
       "      <td>4.93</td>\n",
       "      <td>256800</td>\n",
       "      <td>4.93</td>\n",
       "    </tr>\n",
       "    <tr>\n",
       "      <th>2019-01-04</th>\n",
       "      <td>5.15</td>\n",
       "      <td>4.95</td>\n",
       "      <td>5.01</td>\n",
       "      <td>5.12</td>\n",
       "      <td>217600</td>\n",
       "      <td>5.12</td>\n",
       "    </tr>\n",
       "    <tr>\n",
       "      <th>2019-01-07</th>\n",
       "      <td>5.49</td>\n",
       "      <td>5.05</td>\n",
       "      <td>5.12</td>\n",
       "      <td>5.38</td>\n",
       "      <td>246100</td>\n",
       "      <td>5.38</td>\n",
       "    </tr>\n",
       "    <tr>\n",
       "      <th>2019-01-08</th>\n",
       "      <td>5.69</td>\n",
       "      <td>5.38</td>\n",
       "      <td>5.47</td>\n",
       "      <td>5.55</td>\n",
       "      <td>323200</td>\n",
       "      <td>5.55</td>\n",
       "    </tr>\n",
       "    <tr>\n",
       "      <th>2019-01-09</th>\n",
       "      <td>5.63</td>\n",
       "      <td>5.47</td>\n",
       "      <td>5.49</td>\n",
       "      <td>5.54</td>\n",
       "      <td>194600</td>\n",
       "      <td>5.54</td>\n",
       "    </tr>\n",
       "    <tr>\n",
       "      <th>2019-01-10</th>\n",
       "      <td>5.74</td>\n",
       "      <td>5.37</td>\n",
       "      <td>5.48</td>\n",
       "      <td>5.71</td>\n",
       "      <td>250700</td>\n",
       "      <td>5.71</td>\n",
       "    </tr>\n",
       "  </tbody>\n",
       "</table>\n",
       "</div>"
      ],
      "text/plain": [
       "            High   Low  Open  Close  Volume  Adj Close\n",
       "Date                                                  \n",
       "2018-12-31  4.86  4.63  4.71   4.77  456500       4.77\n",
       "2019-01-02  5.08  4.69  4.72   4.95  272500       4.95\n",
       "2019-01-03  5.08  4.82  4.92   4.93  256800       4.93\n",
       "2019-01-04  5.15  4.95  5.01   5.12  217600       5.12\n",
       "2019-01-07  5.49  5.05  5.12   5.38  246100       5.38\n",
       "2019-01-08  5.69  5.38  5.47   5.55  323200       5.55\n",
       "2019-01-09  5.63  5.47  5.49   5.54  194600       5.54\n",
       "2019-01-10  5.74  5.37  5.48   5.71  250700       5.71"
      ]
     },
     "execution_count": 167,
     "metadata": {},
     "output_type": "execute_result"
    }
   ],
   "source": [
    "TCS"
   ]
  },
  {
   "cell_type": "code",
   "execution_count": 173,
   "metadata": {
    "scrolled": true
   },
   "outputs": [
    {
     "data": {
      "text/plain": [
       "High              5.34000\n",
       "Low               5.04500\n",
       "Open              5.11500\n",
       "Close             5.24375\n",
       "Volume       277250.00000\n",
       "Adj Close         5.24375\n",
       "dtype: float64"
      ]
     },
     "execution_count": 173,
     "metadata": {},
     "output_type": "execute_result"
    }
   ],
   "source": [
    "TCS.mean()"
   ]
  },
  {
   "cell_type": "code",
   "execution_count": 174,
   "metadata": {},
   "outputs": [
    {
     "data": {
      "text/plain": [
       "Index(['High', 'Low', 'Open', 'Close', 'Volume', 'Adj Close'], dtype='object')"
      ]
     },
     "execution_count": 174,
     "metadata": {},
     "output_type": "execute_result"
    }
   ],
   "source": [
    "TCS.columns"
   ]
  },
  {
   "cell_type": "code",
   "execution_count": 175,
   "metadata": {},
   "outputs": [
    {
     "data": {
      "text/plain": [
       "[DatetimeIndex(['2018-12-31', '2019-01-02', '2019-01-03', '2019-01-04',\n",
       "                '2019-01-07', '2019-01-08', '2019-01-09', '2019-01-10'],\n",
       "               dtype='datetime64[ns]', name='Date', freq=None),\n",
       " Index(['High', 'Low', 'Open', 'Close', 'Volume', 'Adj Close'], dtype='object')]"
      ]
     },
     "execution_count": 175,
     "metadata": {},
     "output_type": "execute_result"
    }
   ],
   "source": [
    "TCS.axes"
   ]
  },
  {
   "cell_type": "markdown",
   "metadata": {},
   "source": [
    "# Selecting Rows from a DataFrame with a DateTimeIndex"
   ]
  },
  {
   "cell_type": "code",
   "execution_count": 177,
   "metadata": {},
   "outputs": [
    {
     "data": {
      "text/html": [
       "<div>\n",
       "<style scoped>\n",
       "    .dataframe tbody tr th:only-of-type {\n",
       "        vertical-align: middle;\n",
       "    }\n",
       "\n",
       "    .dataframe tbody tr th {\n",
       "        vertical-align: top;\n",
       "    }\n",
       "\n",
       "    .dataframe thead th {\n",
       "        text-align: right;\n",
       "    }\n",
       "</style>\n",
       "<table border=\"1\" class=\"dataframe\">\n",
       "  <thead>\n",
       "    <tr style=\"text-align: right;\">\n",
       "      <th></th>\n",
       "      <th>High</th>\n",
       "      <th>Low</th>\n",
       "      <th>Open</th>\n",
       "      <th>Close</th>\n",
       "      <th>Volume</th>\n",
       "      <th>Adj Close</th>\n",
       "    </tr>\n",
       "    <tr>\n",
       "      <th>Date</th>\n",
       "      <th></th>\n",
       "      <th></th>\n",
       "      <th></th>\n",
       "      <th></th>\n",
       "      <th></th>\n",
       "      <th></th>\n",
       "    </tr>\n",
       "  </thead>\n",
       "  <tbody>\n",
       "    <tr>\n",
       "      <th>2019-01-03</th>\n",
       "      <td>5.08</td>\n",
       "      <td>4.82</td>\n",
       "      <td>4.92</td>\n",
       "      <td>4.93</td>\n",
       "      <td>256800</td>\n",
       "      <td>4.93</td>\n",
       "    </tr>\n",
       "    <tr>\n",
       "      <th>2019-01-04</th>\n",
       "      <td>5.15</td>\n",
       "      <td>4.95</td>\n",
       "      <td>5.01</td>\n",
       "      <td>5.12</td>\n",
       "      <td>217600</td>\n",
       "      <td>5.12</td>\n",
       "    </tr>\n",
       "    <tr>\n",
       "      <th>2019-01-07</th>\n",
       "      <td>5.49</td>\n",
       "      <td>5.05</td>\n",
       "      <td>5.12</td>\n",
       "      <td>5.38</td>\n",
       "      <td>246100</td>\n",
       "      <td>5.38</td>\n",
       "    </tr>\n",
       "    <tr>\n",
       "      <th>2019-01-08</th>\n",
       "      <td>5.69</td>\n",
       "      <td>5.38</td>\n",
       "      <td>5.47</td>\n",
       "      <td>5.55</td>\n",
       "      <td>323200</td>\n",
       "      <td>5.55</td>\n",
       "    </tr>\n",
       "    <tr>\n",
       "      <th>2019-01-09</th>\n",
       "      <td>5.63</td>\n",
       "      <td>5.47</td>\n",
       "      <td>5.49</td>\n",
       "      <td>5.54</td>\n",
       "      <td>194600</td>\n",
       "      <td>5.54</td>\n",
       "    </tr>\n",
       "  </tbody>\n",
       "</table>\n",
       "</div>"
      ],
      "text/plain": [
       "            High   Low  Open  Close  Volume  Adj Close\n",
       "Date                                                  \n",
       "2019-01-03  5.08  4.82  4.92   4.93  256800       4.93\n",
       "2019-01-04  5.15  4.95  5.01   5.12  217600       5.12\n",
       "2019-01-07  5.49  5.05  5.12   5.38  246100       5.38\n",
       "2019-01-08  5.69  5.38  5.47   5.55  323200       5.55\n",
       "2019-01-09  5.63  5.47  5.49   5.54  194600       5.54"
      ]
     },
     "execution_count": 177,
     "metadata": {},
     "output_type": "execute_result"
    }
   ],
   "source": [
    "TCS.loc[\"2019-01-03\" : \"2019-01-09\"]"
   ]
  },
  {
   "cell_type": "code",
   "execution_count": 180,
   "metadata": {},
   "outputs": [
    {
     "data": {
      "text/plain": [
       "DatetimeIndex(['2012-01-01', '2012-01-02', '2012-01-03', '2012-01-04',\n",
       "               '2012-01-05', '2012-01-06', '2012-01-07', '2012-01-08',\n",
       "               '2012-01-09', '2012-01-10', '2012-01-11', '2012-01-12',\n",
       "               '2012-01-13', '2012-01-14', '2012-01-15', '2012-01-16',\n",
       "               '2012-01-17', '2012-01-18', '2012-01-19', '2012-01-20',\n",
       "               '2012-01-21', '2012-01-22', '2012-01-23', '2012-01-24',\n",
       "               '2012-01-25', '2012-01-26', '2012-01-27', '2012-01-28',\n",
       "               '2012-01-29', '2012-01-30', '2012-01-31', '2012-02-01',\n",
       "               '2012-02-02'],\n",
       "              dtype='datetime64[ns]', freq='<DateOffset>')"
      ]
     },
     "execution_count": 180,
     "metadata": {},
     "output_type": "execute_result"
    }
   ],
   "source": [
    "pd.date_range(start = \"2012-01-01\", end = \"2012-02-02\", freq = pd.DateOffset(n = 1))"
   ]
  },
  {
   "cell_type": "markdown",
   "metadata": {},
   "source": [
    "# Timestamp Object Attributes"
   ]
  },
  {
   "cell_type": "code",
   "execution_count": 184,
   "metadata": {},
   "outputs": [],
   "source": [
    "msft = dr.DataReader(name = \"MSFT\", data_source = \"yahoo\", start = \"2019-01-01\", end = \"2019-01-10\")"
   ]
  },
  {
   "cell_type": "code",
   "execution_count": 186,
   "metadata": {},
   "outputs": [
    {
     "data": {
      "text/html": [
       "<div>\n",
       "<style scoped>\n",
       "    .dataframe tbody tr th:only-of-type {\n",
       "        vertical-align: middle;\n",
       "    }\n",
       "\n",
       "    .dataframe tbody tr th {\n",
       "        vertical-align: top;\n",
       "    }\n",
       "\n",
       "    .dataframe thead th {\n",
       "        text-align: right;\n",
       "    }\n",
       "</style>\n",
       "<table border=\"1\" class=\"dataframe\">\n",
       "  <thead>\n",
       "    <tr style=\"text-align: right;\">\n",
       "      <th></th>\n",
       "      <th>High</th>\n",
       "      <th>Low</th>\n",
       "      <th>Open</th>\n",
       "      <th>Close</th>\n",
       "      <th>Volume</th>\n",
       "      <th>Adj Close</th>\n",
       "    </tr>\n",
       "    <tr>\n",
       "      <th>Date</th>\n",
       "      <th></th>\n",
       "      <th></th>\n",
       "      <th></th>\n",
       "      <th></th>\n",
       "      <th></th>\n",
       "      <th></th>\n",
       "    </tr>\n",
       "  </thead>\n",
       "  <tbody>\n",
       "    <tr>\n",
       "      <th>2018-12-31</th>\n",
       "      <td>102.400002</td>\n",
       "      <td>100.440002</td>\n",
       "      <td>101.290001</td>\n",
       "      <td>101.570000</td>\n",
       "      <td>33173800</td>\n",
       "      <td>101.570000</td>\n",
       "    </tr>\n",
       "    <tr>\n",
       "      <th>2019-01-02</th>\n",
       "      <td>101.750000</td>\n",
       "      <td>98.940002</td>\n",
       "      <td>99.550003</td>\n",
       "      <td>101.120003</td>\n",
       "      <td>35329300</td>\n",
       "      <td>101.120003</td>\n",
       "    </tr>\n",
       "    <tr>\n",
       "      <th>2019-01-03</th>\n",
       "      <td>100.190002</td>\n",
       "      <td>97.199997</td>\n",
       "      <td>100.099998</td>\n",
       "      <td>97.400002</td>\n",
       "      <td>42579100</td>\n",
       "      <td>97.400002</td>\n",
       "    </tr>\n",
       "    <tr>\n",
       "      <th>2019-01-04</th>\n",
       "      <td>102.510002</td>\n",
       "      <td>98.930000</td>\n",
       "      <td>99.720001</td>\n",
       "      <td>101.930000</td>\n",
       "      <td>44060600</td>\n",
       "      <td>101.930000</td>\n",
       "    </tr>\n",
       "    <tr>\n",
       "      <th>2019-01-07</th>\n",
       "      <td>103.269997</td>\n",
       "      <td>100.980003</td>\n",
       "      <td>101.639999</td>\n",
       "      <td>102.059998</td>\n",
       "      <td>35656100</td>\n",
       "      <td>102.059998</td>\n",
       "    </tr>\n",
       "  </tbody>\n",
       "</table>\n",
       "</div>"
      ],
      "text/plain": [
       "                  High         Low        Open       Close    Volume  \\\n",
       "Date                                                                   \n",
       "2018-12-31  102.400002  100.440002  101.290001  101.570000  33173800   \n",
       "2019-01-02  101.750000   98.940002   99.550003  101.120003  35329300   \n",
       "2019-01-03  100.190002   97.199997  100.099998   97.400002  42579100   \n",
       "2019-01-04  102.510002   98.930000   99.720001  101.930000  44060600   \n",
       "2019-01-07  103.269997  100.980003  101.639999  102.059998  35656100   \n",
       "\n",
       "             Adj Close  \n",
       "Date                    \n",
       "2018-12-31  101.570000  \n",
       "2019-01-02  101.120003  \n",
       "2019-01-03   97.400002  \n",
       "2019-01-04  101.930000  \n",
       "2019-01-07  102.059998  "
      ]
     },
     "execution_count": 186,
     "metadata": {},
     "output_type": "execute_result"
    }
   ],
   "source": [
    "msft.head()"
   ]
  },
  {
   "cell_type": "code",
   "execution_count": 189,
   "metadata": {},
   "outputs": [],
   "source": [
    "someday = msft.index[5]"
   ]
  },
  {
   "cell_type": "code",
   "execution_count": 190,
   "metadata": {},
   "outputs": [
    {
     "data": {
      "text/plain": [
       "8"
      ]
     },
     "execution_count": 190,
     "metadata": {},
     "output_type": "execute_result"
    }
   ],
   "source": [
    "someday.day"
   ]
  },
  {
   "cell_type": "code",
   "execution_count": 191,
   "metadata": {},
   "outputs": [],
   "source": [
    "msft.insert(0, \"Day of the Week\", msft.index.weekday_name)"
   ]
  },
  {
   "cell_type": "code",
   "execution_count": 193,
   "metadata": {},
   "outputs": [],
   "source": [
    "msft.insert(1, \"Start of the month\", msft.index.is_month_start)"
   ]
  },
  {
   "cell_type": "code",
   "execution_count": 194,
   "metadata": {
    "scrolled": true
   },
   "outputs": [
    {
     "data": {
      "text/html": [
       "<div>\n",
       "<style scoped>\n",
       "    .dataframe tbody tr th:only-of-type {\n",
       "        vertical-align: middle;\n",
       "    }\n",
       "\n",
       "    .dataframe tbody tr th {\n",
       "        vertical-align: top;\n",
       "    }\n",
       "\n",
       "    .dataframe thead th {\n",
       "        text-align: right;\n",
       "    }\n",
       "</style>\n",
       "<table border=\"1\" class=\"dataframe\">\n",
       "  <thead>\n",
       "    <tr style=\"text-align: right;\">\n",
       "      <th></th>\n",
       "      <th>Day of the Week</th>\n",
       "      <th>Start of the month</th>\n",
       "      <th>High</th>\n",
       "      <th>Low</th>\n",
       "      <th>Open</th>\n",
       "      <th>Close</th>\n",
       "      <th>Volume</th>\n",
       "      <th>Adj Close</th>\n",
       "    </tr>\n",
       "    <tr>\n",
       "      <th>Date</th>\n",
       "      <th></th>\n",
       "      <th></th>\n",
       "      <th></th>\n",
       "      <th></th>\n",
       "      <th></th>\n",
       "      <th></th>\n",
       "      <th></th>\n",
       "      <th></th>\n",
       "    </tr>\n",
       "  </thead>\n",
       "  <tbody>\n",
       "    <tr>\n",
       "      <th>2018-12-31</th>\n",
       "      <td>Monday</td>\n",
       "      <td>False</td>\n",
       "      <td>102.400002</td>\n",
       "      <td>100.440002</td>\n",
       "      <td>101.290001</td>\n",
       "      <td>101.570000</td>\n",
       "      <td>33173800</td>\n",
       "      <td>101.570000</td>\n",
       "    </tr>\n",
       "    <tr>\n",
       "      <th>2019-01-02</th>\n",
       "      <td>Wednesday</td>\n",
       "      <td>False</td>\n",
       "      <td>101.750000</td>\n",
       "      <td>98.940002</td>\n",
       "      <td>99.550003</td>\n",
       "      <td>101.120003</td>\n",
       "      <td>35329300</td>\n",
       "      <td>101.120003</td>\n",
       "    </tr>\n",
       "    <tr>\n",
       "      <th>2019-01-03</th>\n",
       "      <td>Thursday</td>\n",
       "      <td>False</td>\n",
       "      <td>100.190002</td>\n",
       "      <td>97.199997</td>\n",
       "      <td>100.099998</td>\n",
       "      <td>97.400002</td>\n",
       "      <td>42579100</td>\n",
       "      <td>97.400002</td>\n",
       "    </tr>\n",
       "    <tr>\n",
       "      <th>2019-01-04</th>\n",
       "      <td>Friday</td>\n",
       "      <td>False</td>\n",
       "      <td>102.510002</td>\n",
       "      <td>98.930000</td>\n",
       "      <td>99.720001</td>\n",
       "      <td>101.930000</td>\n",
       "      <td>44060600</td>\n",
       "      <td>101.930000</td>\n",
       "    </tr>\n",
       "    <tr>\n",
       "      <th>2019-01-07</th>\n",
       "      <td>Monday</td>\n",
       "      <td>False</td>\n",
       "      <td>103.269997</td>\n",
       "      <td>100.980003</td>\n",
       "      <td>101.639999</td>\n",
       "      <td>102.059998</td>\n",
       "      <td>35656100</td>\n",
       "      <td>102.059998</td>\n",
       "    </tr>\n",
       "    <tr>\n",
       "      <th>2019-01-08</th>\n",
       "      <td>Tuesday</td>\n",
       "      <td>False</td>\n",
       "      <td>103.970001</td>\n",
       "      <td>101.709999</td>\n",
       "      <td>103.040001</td>\n",
       "      <td>102.800003</td>\n",
       "      <td>31514400</td>\n",
       "      <td>102.800003</td>\n",
       "    </tr>\n",
       "    <tr>\n",
       "      <th>2019-01-09</th>\n",
       "      <td>Wednesday</td>\n",
       "      <td>False</td>\n",
       "      <td>104.879997</td>\n",
       "      <td>103.239998</td>\n",
       "      <td>103.860001</td>\n",
       "      <td>104.269997</td>\n",
       "      <td>32280800</td>\n",
       "      <td>104.269997</td>\n",
       "    </tr>\n",
       "    <tr>\n",
       "      <th>2019-01-10</th>\n",
       "      <td>Thursday</td>\n",
       "      <td>False</td>\n",
       "      <td>103.750000</td>\n",
       "      <td>102.379997</td>\n",
       "      <td>103.220001</td>\n",
       "      <td>103.599998</td>\n",
       "      <td>30067600</td>\n",
       "      <td>103.599998</td>\n",
       "    </tr>\n",
       "  </tbody>\n",
       "</table>\n",
       "</div>"
      ],
      "text/plain": [
       "           Day of the Week  Start of the month        High         Low  \\\n",
       "Date                                                                     \n",
       "2018-12-31          Monday               False  102.400002  100.440002   \n",
       "2019-01-02       Wednesday               False  101.750000   98.940002   \n",
       "2019-01-03        Thursday               False  100.190002   97.199997   \n",
       "2019-01-04          Friday               False  102.510002   98.930000   \n",
       "2019-01-07          Monday               False  103.269997  100.980003   \n",
       "2019-01-08         Tuesday               False  103.970001  101.709999   \n",
       "2019-01-09       Wednesday               False  104.879997  103.239998   \n",
       "2019-01-10        Thursday               False  103.750000  102.379997   \n",
       "\n",
       "                  Open       Close    Volume   Adj Close  \n",
       "Date                                                      \n",
       "2018-12-31  101.290001  101.570000  33173800  101.570000  \n",
       "2019-01-02   99.550003  101.120003  35329300  101.120003  \n",
       "2019-01-03  100.099998   97.400002  42579100   97.400002  \n",
       "2019-01-04   99.720001  101.930000  44060600  101.930000  \n",
       "2019-01-07  101.639999  102.059998  35656100  102.059998  \n",
       "2019-01-08  103.040001  102.800003  31514400  102.800003  \n",
       "2019-01-09  103.860001  104.269997  32280800  104.269997  \n",
       "2019-01-10  103.220001  103.599998  30067600  103.599998  "
      ]
     },
     "execution_count": 194,
     "metadata": {},
     "output_type": "execute_result"
    }
   ],
   "source": [
    "msft"
   ]
  },
  {
   "cell_type": "markdown",
   "metadata": {},
   "source": [
    "# The .truncate() Method"
   ]
  },
  {
   "cell_type": "code",
   "execution_count": 195,
   "metadata": {},
   "outputs": [
    {
     "data": {
      "text/html": [
       "<div>\n",
       "<style scoped>\n",
       "    .dataframe tbody tr th:only-of-type {\n",
       "        vertical-align: middle;\n",
       "    }\n",
       "\n",
       "    .dataframe tbody tr th {\n",
       "        vertical-align: top;\n",
       "    }\n",
       "\n",
       "    .dataframe thead th {\n",
       "        text-align: right;\n",
       "    }\n",
       "</style>\n",
       "<table border=\"1\" class=\"dataframe\">\n",
       "  <thead>\n",
       "    <tr style=\"text-align: right;\">\n",
       "      <th></th>\n",
       "      <th>Day of the Week</th>\n",
       "      <th>Start of the month</th>\n",
       "      <th>High</th>\n",
       "      <th>Low</th>\n",
       "      <th>Open</th>\n",
       "      <th>Close</th>\n",
       "      <th>Volume</th>\n",
       "      <th>Adj Close</th>\n",
       "    </tr>\n",
       "    <tr>\n",
       "      <th>Date</th>\n",
       "      <th></th>\n",
       "      <th></th>\n",
       "      <th></th>\n",
       "      <th></th>\n",
       "      <th></th>\n",
       "      <th></th>\n",
       "      <th></th>\n",
       "      <th></th>\n",
       "    </tr>\n",
       "  </thead>\n",
       "  <tbody>\n",
       "    <tr>\n",
       "      <th>2019-01-04</th>\n",
       "      <td>Friday</td>\n",
       "      <td>False</td>\n",
       "      <td>102.510002</td>\n",
       "      <td>98.930000</td>\n",
       "      <td>99.720001</td>\n",
       "      <td>101.930000</td>\n",
       "      <td>44060600</td>\n",
       "      <td>101.930000</td>\n",
       "    </tr>\n",
       "    <tr>\n",
       "      <th>2019-01-07</th>\n",
       "      <td>Monday</td>\n",
       "      <td>False</td>\n",
       "      <td>103.269997</td>\n",
       "      <td>100.980003</td>\n",
       "      <td>101.639999</td>\n",
       "      <td>102.059998</td>\n",
       "      <td>35656100</td>\n",
       "      <td>102.059998</td>\n",
       "    </tr>\n",
       "    <tr>\n",
       "      <th>2019-01-08</th>\n",
       "      <td>Tuesday</td>\n",
       "      <td>False</td>\n",
       "      <td>103.970001</td>\n",
       "      <td>101.709999</td>\n",
       "      <td>103.040001</td>\n",
       "      <td>102.800003</td>\n",
       "      <td>31514400</td>\n",
       "      <td>102.800003</td>\n",
       "    </tr>\n",
       "    <tr>\n",
       "      <th>2019-01-09</th>\n",
       "      <td>Wednesday</td>\n",
       "      <td>False</td>\n",
       "      <td>104.879997</td>\n",
       "      <td>103.239998</td>\n",
       "      <td>103.860001</td>\n",
       "      <td>104.269997</td>\n",
       "      <td>32280800</td>\n",
       "      <td>104.269997</td>\n",
       "    </tr>\n",
       "  </tbody>\n",
       "</table>\n",
       "</div>"
      ],
      "text/plain": [
       "           Day of the Week  Start of the month        High         Low  \\\n",
       "Date                                                                     \n",
       "2019-01-04          Friday               False  102.510002   98.930000   \n",
       "2019-01-07          Monday               False  103.269997  100.980003   \n",
       "2019-01-08         Tuesday               False  103.970001  101.709999   \n",
       "2019-01-09       Wednesday               False  104.879997  103.239998   \n",
       "\n",
       "                  Open       Close    Volume   Adj Close  \n",
       "Date                                                      \n",
       "2019-01-04   99.720001  101.930000  44060600  101.930000  \n",
       "2019-01-07  101.639999  102.059998  35656100  102.059998  \n",
       "2019-01-08  103.040001  102.800003  31514400  102.800003  \n",
       "2019-01-09  103.860001  104.269997  32280800  104.269997  "
      ]
     },
     "execution_count": 195,
     "metadata": {},
     "output_type": "execute_result"
    }
   ],
   "source": [
    "msft.truncate(before = \"2019-01-04\" , after = \"2019-01-09\")"
   ]
  },
  {
   "cell_type": "markdown",
   "metadata": {},
   "source": [
    "# pd.DateOffset Objects"
   ]
  },
  {
   "cell_type": "code",
   "execution_count": 199,
   "metadata": {},
   "outputs": [],
   "source": [
    "google = dr.DataReader(name = \"GOOG\", data_source = \"yahoo\", start = dt.date(2019, 1, 1), end = dt.datetime.now())"
   ]
  },
  {
   "cell_type": "code",
   "execution_count": 201,
   "metadata": {},
   "outputs": [
    {
     "data": {
      "text/html": [
       "<div>\n",
       "<style scoped>\n",
       "    .dataframe tbody tr th:only-of-type {\n",
       "        vertical-align: middle;\n",
       "    }\n",
       "\n",
       "    .dataframe tbody tr th {\n",
       "        vertical-align: top;\n",
       "    }\n",
       "\n",
       "    .dataframe thead th {\n",
       "        text-align: right;\n",
       "    }\n",
       "</style>\n",
       "<table border=\"1\" class=\"dataframe\">\n",
       "  <thead>\n",
       "    <tr style=\"text-align: right;\">\n",
       "      <th></th>\n",
       "      <th>High</th>\n",
       "      <th>Low</th>\n",
       "      <th>Open</th>\n",
       "      <th>Close</th>\n",
       "      <th>Volume</th>\n",
       "      <th>Adj Close</th>\n",
       "    </tr>\n",
       "    <tr>\n",
       "      <th>Date</th>\n",
       "      <th></th>\n",
       "      <th></th>\n",
       "      <th></th>\n",
       "      <th></th>\n",
       "      <th></th>\n",
       "      <th></th>\n",
       "    </tr>\n",
       "  </thead>\n",
       "  <tbody>\n",
       "    <tr>\n",
       "      <th>2018-12-31</th>\n",
       "      <td>1052.699951</td>\n",
       "      <td>1023.590027</td>\n",
       "      <td>1050.959961</td>\n",
       "      <td>1035.609985</td>\n",
       "      <td>1493300</td>\n",
       "      <td>1035.609985</td>\n",
       "    </tr>\n",
       "    <tr>\n",
       "      <th>2019-01-02</th>\n",
       "      <td>1052.319946</td>\n",
       "      <td>1015.710022</td>\n",
       "      <td>1016.570007</td>\n",
       "      <td>1045.849976</td>\n",
       "      <td>1532600</td>\n",
       "      <td>1045.849976</td>\n",
       "    </tr>\n",
       "    <tr>\n",
       "      <th>2019-01-03</th>\n",
       "      <td>1056.979980</td>\n",
       "      <td>1014.070007</td>\n",
       "      <td>1041.000000</td>\n",
       "      <td>1016.059998</td>\n",
       "      <td>1841100</td>\n",
       "      <td>1016.059998</td>\n",
       "    </tr>\n",
       "    <tr>\n",
       "      <th>2019-01-04</th>\n",
       "      <td>1070.839966</td>\n",
       "      <td>1027.417969</td>\n",
       "      <td>1032.589966</td>\n",
       "      <td>1070.709961</td>\n",
       "      <td>2093900</td>\n",
       "      <td>1070.709961</td>\n",
       "    </tr>\n",
       "    <tr>\n",
       "      <th>2019-01-07</th>\n",
       "      <td>1074.000000</td>\n",
       "      <td>1054.760010</td>\n",
       "      <td>1071.500000</td>\n",
       "      <td>1068.390015</td>\n",
       "      <td>1981900</td>\n",
       "      <td>1068.390015</td>\n",
       "    </tr>\n",
       "  </tbody>\n",
       "</table>\n",
       "</div>"
      ],
      "text/plain": [
       "                   High          Low         Open        Close   Volume  \\\n",
       "Date                                                                      \n",
       "2018-12-31  1052.699951  1023.590027  1050.959961  1035.609985  1493300   \n",
       "2019-01-02  1052.319946  1015.710022  1016.570007  1045.849976  1532600   \n",
       "2019-01-03  1056.979980  1014.070007  1041.000000  1016.059998  1841100   \n",
       "2019-01-04  1070.839966  1027.417969  1032.589966  1070.709961  2093900   \n",
       "2019-01-07  1074.000000  1054.760010  1071.500000  1068.390015  1981900   \n",
       "\n",
       "              Adj Close  \n",
       "Date                     \n",
       "2018-12-31  1035.609985  \n",
       "2019-01-02  1045.849976  \n",
       "2019-01-03  1016.059998  \n",
       "2019-01-04  1070.709961  \n",
       "2019-01-07  1068.390015  "
      ]
     },
     "execution_count": 201,
     "metadata": {},
     "output_type": "execute_result"
    }
   ],
   "source": [
    "google.head()"
   ]
  },
  {
   "cell_type": "code",
   "execution_count": 216,
   "metadata": {},
   "outputs": [],
   "source": [
    "off = google.index - pd.DateOffset(days = 1)"
   ]
  },
  {
   "cell_type": "code",
   "execution_count": 230,
   "metadata": {},
   "outputs": [
    {
     "data": {
      "text/plain": [
       "DatetimeIndex(['2019-01-31', '2019-01-31', '2019-01-31', '2019-01-31',\n",
       "               '2019-01-31', '2019-01-31', '2019-01-31', '2019-01-31',\n",
       "               '2019-01-31'],\n",
       "              dtype='datetime64[ns]', name='Date', freq=None)"
      ]
     },
     "execution_count": 230,
     "metadata": {},
     "output_type": "execute_result"
    }
   ],
   "source": [
    "google.index + BMonthEnd()\n",
    "#monthend bmonthend quarterend quarterbegin yearbegin"
   ]
  },
  {
   "cell_type": "markdown",
   "metadata": {},
   "source": [
    "# The pandas Timedelta Object"
   ]
  },
  {
   "cell_type": "code",
   "execution_count": 240,
   "metadata": {},
   "outputs": [],
   "source": [
    "dayA = pd.Timestamp(\"2012-01-01\")\n",
    "dayB = pd.Timestamp(\"2012-04-21\")"
   ]
  },
  {
   "cell_type": "code",
   "execution_count": 241,
   "metadata": {},
   "outputs": [
    {
     "data": {
      "text/plain": [
       "Timedelta('111 days 00:00:00')"
      ]
     },
     "execution_count": 241,
     "metadata": {},
     "output_type": "execute_result"
    }
   ],
   "source": [
    "dayB - dayA"
   ]
  },
  {
   "cell_type": "code",
   "execution_count": 244,
   "metadata": {},
   "outputs": [
    {
     "data": {
      "text/plain": [
       "Timedelta('59 days 02:45:00')"
      ]
     },
     "execution_count": 244,
     "metadata": {},
     "output_type": "execute_result"
    }
   ],
   "source": [
    "pd.Timedelta(days = 3, minutes = 45, hours = 2, weeks = 8)"
   ]
  },
  {
   "cell_type": "markdown",
   "metadata": {},
   "source": [
    "# Timedeltas in a Dataset"
   ]
  },
  {
   "cell_type": "code",
   "execution_count": 256,
   "metadata": {},
   "outputs": [
    {
     "data": {
      "text/html": [
       "<div>\n",
       "<style scoped>\n",
       "    .dataframe tbody tr th:only-of-type {\n",
       "        vertical-align: middle;\n",
       "    }\n",
       "\n",
       "    .dataframe tbody tr th {\n",
       "        vertical-align: top;\n",
       "    }\n",
       "\n",
       "    .dataframe thead th {\n",
       "        text-align: right;\n",
       "    }\n",
       "</style>\n",
       "<table border=\"1\" class=\"dataframe\">\n",
       "  <thead>\n",
       "    <tr style=\"text-align: right;\">\n",
       "      <th></th>\n",
       "      <th>order_date</th>\n",
       "      <th>delivery_date</th>\n",
       "    </tr>\n",
       "    <tr>\n",
       "      <th>ID</th>\n",
       "      <th></th>\n",
       "      <th></th>\n",
       "    </tr>\n",
       "  </thead>\n",
       "  <tbody>\n",
       "    <tr>\n",
       "      <th>1</th>\n",
       "      <td>1998-05-24</td>\n",
       "      <td>1999-02-05</td>\n",
       "    </tr>\n",
       "    <tr>\n",
       "      <th>2</th>\n",
       "      <td>1992-04-22</td>\n",
       "      <td>1998-03-06</td>\n",
       "    </tr>\n",
       "    <tr>\n",
       "      <th>4</th>\n",
       "      <td>1991-02-10</td>\n",
       "      <td>1992-08-26</td>\n",
       "    </tr>\n",
       "    <tr>\n",
       "      <th>5</th>\n",
       "      <td>1992-07-21</td>\n",
       "      <td>1997-11-20</td>\n",
       "    </tr>\n",
       "    <tr>\n",
       "      <th>7</th>\n",
       "      <td>1993-09-02</td>\n",
       "      <td>1998-06-10</td>\n",
       "    </tr>\n",
       "  </tbody>\n",
       "</table>\n",
       "</div>"
      ],
      "text/plain": [
       "   order_date delivery_date\n",
       "ID                         \n",
       "1  1998-05-24    1999-02-05\n",
       "2  1992-04-22    1998-03-06\n",
       "4  1991-02-10    1992-08-26\n",
       "5  1992-07-21    1997-11-20\n",
       "7  1993-09-02    1998-06-10"
      ]
     },
     "execution_count": 256,
     "metadata": {},
     "output_type": "execute_result"
    }
   ],
   "source": [
    "ecom = pd.read_csv(\"D:/python/Data Analysis with Python/#Udemy/Pandas/ecommerce.csv\", index_col = \"ID\", parse_dates = [\"order_date\", \"delivery_date\"])\n",
    "\n",
    "ecom.head()"
   ]
  },
  {
   "cell_type": "code",
   "execution_count": 257,
   "metadata": {},
   "outputs": [
    {
     "name": "stdout",
     "output_type": "stream",
     "text": [
      "<class 'pandas.core.frame.DataFrame'>\n",
      "Int64Index: 501 entries, 1 to 997\n",
      "Data columns (total 2 columns):\n",
      "order_date       501 non-null datetime64[ns]\n",
      "delivery_date    501 non-null datetime64[ns]\n",
      "dtypes: datetime64[ns](2)\n",
      "memory usage: 11.7 KB\n"
     ]
    }
   ],
   "source": [
    "ecom.info()"
   ]
  },
  {
   "cell_type": "code",
   "execution_count": 261,
   "metadata": {},
   "outputs": [],
   "source": [
    "ecom[\"delivery_time\"] = ecom[\"delivery_date\"] - ecom[\"order_date\"]"
   ]
  },
  {
   "cell_type": "code",
   "execution_count": 263,
   "metadata": {},
   "outputs": [
    {
     "data": {
      "text/html": [
       "<div>\n",
       "<style scoped>\n",
       "    .dataframe tbody tr th:only-of-type {\n",
       "        vertical-align: middle;\n",
       "    }\n",
       "\n",
       "    .dataframe tbody tr th {\n",
       "        vertical-align: top;\n",
       "    }\n",
       "\n",
       "    .dataframe thead th {\n",
       "        text-align: right;\n",
       "    }\n",
       "</style>\n",
       "<table border=\"1\" class=\"dataframe\">\n",
       "  <thead>\n",
       "    <tr style=\"text-align: right;\">\n",
       "      <th></th>\n",
       "      <th>order_date</th>\n",
       "      <th>delivery_date</th>\n",
       "      <th>delivery_time</th>\n",
       "    </tr>\n",
       "    <tr>\n",
       "      <th>ID</th>\n",
       "      <th></th>\n",
       "      <th></th>\n",
       "      <th></th>\n",
       "    </tr>\n",
       "  </thead>\n",
       "  <tbody>\n",
       "    <tr>\n",
       "      <th>1</th>\n",
       "      <td>1998-05-24</td>\n",
       "      <td>1999-02-05</td>\n",
       "      <td>257 days</td>\n",
       "    </tr>\n",
       "    <tr>\n",
       "      <th>2</th>\n",
       "      <td>1992-04-22</td>\n",
       "      <td>1998-03-06</td>\n",
       "      <td>2144 days</td>\n",
       "    </tr>\n",
       "    <tr>\n",
       "      <th>4</th>\n",
       "      <td>1991-02-10</td>\n",
       "      <td>1992-08-26</td>\n",
       "      <td>563 days</td>\n",
       "    </tr>\n",
       "    <tr>\n",
       "      <th>5</th>\n",
       "      <td>1992-07-21</td>\n",
       "      <td>1997-11-20</td>\n",
       "      <td>1948 days</td>\n",
       "    </tr>\n",
       "    <tr>\n",
       "      <th>7</th>\n",
       "      <td>1993-09-02</td>\n",
       "      <td>1998-06-10</td>\n",
       "      <td>1742 days</td>\n",
       "    </tr>\n",
       "  </tbody>\n",
       "</table>\n",
       "</div>"
      ],
      "text/plain": [
       "   order_date delivery_date delivery_time\n",
       "ID                                       \n",
       "1  1998-05-24    1999-02-05      257 days\n",
       "2  1992-04-22    1998-03-06     2144 days\n",
       "4  1991-02-10    1992-08-26      563 days\n",
       "5  1992-07-21    1997-11-20     1948 days\n",
       "7  1993-09-02    1998-06-10     1742 days"
      ]
     },
     "execution_count": 263,
     "metadata": {},
     "output_type": "execute_result"
    }
   ],
   "source": [
    "ecom.head()"
   ]
  },
  {
   "cell_type": "code",
   "execution_count": 271,
   "metadata": {},
   "outputs": [
    {
     "data": {
      "text/html": [
       "<div>\n",
       "<style scoped>\n",
       "    .dataframe tbody tr th:only-of-type {\n",
       "        vertical-align: middle;\n",
       "    }\n",
       "\n",
       "    .dataframe tbody tr th {\n",
       "        vertical-align: top;\n",
       "    }\n",
       "\n",
       "    .dataframe thead th {\n",
       "        text-align: right;\n",
       "    }\n",
       "</style>\n",
       "<table border=\"1\" class=\"dataframe\">\n",
       "  <thead>\n",
       "    <tr style=\"text-align: right;\">\n",
       "      <th></th>\n",
       "      <th>order_date</th>\n",
       "      <th>delivery_date</th>\n",
       "      <th>delivery_time</th>\n",
       "    </tr>\n",
       "    <tr>\n",
       "      <th>ID</th>\n",
       "      <th></th>\n",
       "      <th></th>\n",
       "      <th></th>\n",
       "    </tr>\n",
       "  </thead>\n",
       "  <tbody>\n",
       "    <tr>\n",
       "      <th>1</th>\n",
       "      <td>1998-05-24</td>\n",
       "      <td>1999-02-05</td>\n",
       "      <td>257 days</td>\n",
       "    </tr>\n",
       "    <tr>\n",
       "      <th>2</th>\n",
       "      <td>1992-04-22</td>\n",
       "      <td>1998-03-06</td>\n",
       "      <td>2144 days</td>\n",
       "    </tr>\n",
       "    <tr>\n",
       "      <th>4</th>\n",
       "      <td>1991-02-10</td>\n",
       "      <td>1992-08-26</td>\n",
       "      <td>563 days</td>\n",
       "    </tr>\n",
       "    <tr>\n",
       "      <th>5</th>\n",
       "      <td>1992-07-21</td>\n",
       "      <td>1997-11-20</td>\n",
       "      <td>1948 days</td>\n",
       "    </tr>\n",
       "    <tr>\n",
       "      <th>7</th>\n",
       "      <td>1993-09-02</td>\n",
       "      <td>1998-06-10</td>\n",
       "      <td>1742 days</td>\n",
       "    </tr>\n",
       "    <tr>\n",
       "      <th>8</th>\n",
       "      <td>1993-06-10</td>\n",
       "      <td>1993-11-11</td>\n",
       "      <td>154 days</td>\n",
       "    </tr>\n",
       "    <tr>\n",
       "      <th>9</th>\n",
       "      <td>1990-01-25</td>\n",
       "      <td>1994-10-02</td>\n",
       "      <td>1711 days</td>\n",
       "    </tr>\n",
       "    <tr>\n",
       "      <th>10</th>\n",
       "      <td>1992-02-23</td>\n",
       "      <td>1998-12-30</td>\n",
       "      <td>2502 days</td>\n",
       "    </tr>\n",
       "    <tr>\n",
       "      <th>11</th>\n",
       "      <td>1996-07-12</td>\n",
       "      <td>1997-07-14</td>\n",
       "      <td>367 days</td>\n",
       "    </tr>\n",
       "    <tr>\n",
       "      <th>18</th>\n",
       "      <td>1995-06-18</td>\n",
       "      <td>1997-10-13</td>\n",
       "      <td>848 days</td>\n",
       "    </tr>\n",
       "    <tr>\n",
       "      <th>19</th>\n",
       "      <td>1998-05-10</td>\n",
       "      <td>1998-05-19</td>\n",
       "      <td>9 days</td>\n",
       "    </tr>\n",
       "    <tr>\n",
       "      <th>20</th>\n",
       "      <td>1992-10-17</td>\n",
       "      <td>1998-10-06</td>\n",
       "      <td>2180 days</td>\n",
       "    </tr>\n",
       "    <tr>\n",
       "      <th>23</th>\n",
       "      <td>1992-05-30</td>\n",
       "      <td>1999-08-15</td>\n",
       "      <td>2633 days</td>\n",
       "    </tr>\n",
       "    <tr>\n",
       "      <th>26</th>\n",
       "      <td>1996-04-11</td>\n",
       "      <td>1998-05-04</td>\n",
       "      <td>753 days</td>\n",
       "    </tr>\n",
       "    <tr>\n",
       "      <th>30</th>\n",
       "      <td>1998-10-22</td>\n",
       "      <td>1999-01-11</td>\n",
       "      <td>81 days</td>\n",
       "    </tr>\n",
       "    <tr>\n",
       "      <th>32</th>\n",
       "      <td>1990-01-20</td>\n",
       "      <td>1998-07-24</td>\n",
       "      <td>3107 days</td>\n",
       "    </tr>\n",
       "    <tr>\n",
       "      <th>33</th>\n",
       "      <td>1994-09-21</td>\n",
       "      <td>1996-10-12</td>\n",
       "      <td>752 days</td>\n",
       "    </tr>\n",
       "    <tr>\n",
       "      <th>35</th>\n",
       "      <td>1993-09-10</td>\n",
       "      <td>1996-04-28</td>\n",
       "      <td>961 days</td>\n",
       "    </tr>\n",
       "    <tr>\n",
       "      <th>36</th>\n",
       "      <td>1990-05-15</td>\n",
       "      <td>1994-02-14</td>\n",
       "      <td>1371 days</td>\n",
       "    </tr>\n",
       "    <tr>\n",
       "      <th>39</th>\n",
       "      <td>1990-03-26</td>\n",
       "      <td>1993-01-25</td>\n",
       "      <td>1036 days</td>\n",
       "    </tr>\n",
       "    <tr>\n",
       "      <th>41</th>\n",
       "      <td>1992-02-06</td>\n",
       "      <td>1996-05-10</td>\n",
       "      <td>1555 days</td>\n",
       "    </tr>\n",
       "    <tr>\n",
       "      <th>46</th>\n",
       "      <td>1995-09-05</td>\n",
       "      <td>1996-07-19</td>\n",
       "      <td>318 days</td>\n",
       "    </tr>\n",
       "    <tr>\n",
       "      <th>50</th>\n",
       "      <td>1991-05-03</td>\n",
       "      <td>1999-07-17</td>\n",
       "      <td>2997 days</td>\n",
       "    </tr>\n",
       "    <tr>\n",
       "      <th>52</th>\n",
       "      <td>1994-09-02</td>\n",
       "      <td>1997-05-14</td>\n",
       "      <td>985 days</td>\n",
       "    </tr>\n",
       "    <tr>\n",
       "      <th>53</th>\n",
       "      <td>1995-11-29</td>\n",
       "      <td>1998-06-23</td>\n",
       "      <td>937 days</td>\n",
       "    </tr>\n",
       "    <tr>\n",
       "      <th>54</th>\n",
       "      <td>1996-08-07</td>\n",
       "      <td>1998-04-04</td>\n",
       "      <td>605 days</td>\n",
       "    </tr>\n",
       "    <tr>\n",
       "      <th>58</th>\n",
       "      <td>1995-02-11</td>\n",
       "      <td>1995-04-16</td>\n",
       "      <td>64 days</td>\n",
       "    </tr>\n",
       "    <tr>\n",
       "      <th>59</th>\n",
       "      <td>1995-09-29</td>\n",
       "      <td>1995-12-16</td>\n",
       "      <td>78 days</td>\n",
       "    </tr>\n",
       "    <tr>\n",
       "      <th>60</th>\n",
       "      <td>1993-02-14</td>\n",
       "      <td>1995-08-06</td>\n",
       "      <td>903 days</td>\n",
       "    </tr>\n",
       "    <tr>\n",
       "      <th>63</th>\n",
       "      <td>1990-12-22</td>\n",
       "      <td>1995-09-02</td>\n",
       "      <td>1715 days</td>\n",
       "    </tr>\n",
       "    <tr>\n",
       "      <th>...</th>\n",
       "      <td>...</td>\n",
       "      <td>...</td>\n",
       "      <td>...</td>\n",
       "    </tr>\n",
       "    <tr>\n",
       "      <th>932</th>\n",
       "      <td>1997-07-25</td>\n",
       "      <td>1998-04-09</td>\n",
       "      <td>258 days</td>\n",
       "    </tr>\n",
       "    <tr>\n",
       "      <th>934</th>\n",
       "      <td>1995-05-22</td>\n",
       "      <td>1995-07-11</td>\n",
       "      <td>50 days</td>\n",
       "    </tr>\n",
       "    <tr>\n",
       "      <th>935</th>\n",
       "      <td>1990-09-26</td>\n",
       "      <td>1998-03-07</td>\n",
       "      <td>2719 days</td>\n",
       "    </tr>\n",
       "    <tr>\n",
       "      <th>938</th>\n",
       "      <td>1993-03-24</td>\n",
       "      <td>1995-07-15</td>\n",
       "      <td>843 days</td>\n",
       "    </tr>\n",
       "    <tr>\n",
       "      <th>939</th>\n",
       "      <td>1998-10-01</td>\n",
       "      <td>1998-12-07</td>\n",
       "      <td>67 days</td>\n",
       "    </tr>\n",
       "    <tr>\n",
       "      <th>942</th>\n",
       "      <td>1992-04-14</td>\n",
       "      <td>1997-03-03</td>\n",
       "      <td>1784 days</td>\n",
       "    </tr>\n",
       "    <tr>\n",
       "      <th>943</th>\n",
       "      <td>1991-01-30</td>\n",
       "      <td>1999-12-02</td>\n",
       "      <td>3228 days</td>\n",
       "    </tr>\n",
       "    <tr>\n",
       "      <th>945</th>\n",
       "      <td>1992-10-27</td>\n",
       "      <td>1994-11-03</td>\n",
       "      <td>737 days</td>\n",
       "    </tr>\n",
       "    <tr>\n",
       "      <th>946</th>\n",
       "      <td>1991-07-02</td>\n",
       "      <td>1996-02-23</td>\n",
       "      <td>1697 days</td>\n",
       "    </tr>\n",
       "    <tr>\n",
       "      <th>947</th>\n",
       "      <td>1991-06-18</td>\n",
       "      <td>1999-06-11</td>\n",
       "      <td>2915 days</td>\n",
       "    </tr>\n",
       "    <tr>\n",
       "      <th>949</th>\n",
       "      <td>1991-10-07</td>\n",
       "      <td>1992-01-07</td>\n",
       "      <td>92 days</td>\n",
       "    </tr>\n",
       "    <tr>\n",
       "      <th>951</th>\n",
       "      <td>1991-10-02</td>\n",
       "      <td>1994-04-18</td>\n",
       "      <td>929 days</td>\n",
       "    </tr>\n",
       "    <tr>\n",
       "      <th>953</th>\n",
       "      <td>1991-09-26</td>\n",
       "      <td>1994-05-08</td>\n",
       "      <td>955 days</td>\n",
       "    </tr>\n",
       "    <tr>\n",
       "      <th>954</th>\n",
       "      <td>1993-08-08</td>\n",
       "      <td>1994-01-23</td>\n",
       "      <td>168 days</td>\n",
       "    </tr>\n",
       "    <tr>\n",
       "      <th>956</th>\n",
       "      <td>1995-08-23</td>\n",
       "      <td>1999-01-10</td>\n",
       "      <td>1236 days</td>\n",
       "    </tr>\n",
       "    <tr>\n",
       "      <th>957</th>\n",
       "      <td>1994-10-01</td>\n",
       "      <td>1999-07-25</td>\n",
       "      <td>1758 days</td>\n",
       "    </tr>\n",
       "    <tr>\n",
       "      <th>958</th>\n",
       "      <td>1990-04-26</td>\n",
       "      <td>1997-06-29</td>\n",
       "      <td>2621 days</td>\n",
       "    </tr>\n",
       "    <tr>\n",
       "      <th>969</th>\n",
       "      <td>1996-09-24</td>\n",
       "      <td>1996-11-16</td>\n",
       "      <td>53 days</td>\n",
       "    </tr>\n",
       "    <tr>\n",
       "      <th>972</th>\n",
       "      <td>1990-02-07</td>\n",
       "      <td>1995-11-05</td>\n",
       "      <td>2097 days</td>\n",
       "    </tr>\n",
       "    <tr>\n",
       "      <th>975</th>\n",
       "      <td>1997-06-18</td>\n",
       "      <td>1997-11-02</td>\n",
       "      <td>137 days</td>\n",
       "    </tr>\n",
       "    <tr>\n",
       "      <th>981</th>\n",
       "      <td>1997-01-31</td>\n",
       "      <td>1998-03-04</td>\n",
       "      <td>397 days</td>\n",
       "    </tr>\n",
       "    <tr>\n",
       "      <th>983</th>\n",
       "      <td>1994-12-30</td>\n",
       "      <td>1997-07-29</td>\n",
       "      <td>942 days</td>\n",
       "    </tr>\n",
       "    <tr>\n",
       "      <th>984</th>\n",
       "      <td>1991-07-25</td>\n",
       "      <td>1999-02-09</td>\n",
       "      <td>2756 days</td>\n",
       "    </tr>\n",
       "    <tr>\n",
       "      <th>985</th>\n",
       "      <td>1995-07-26</td>\n",
       "      <td>1996-06-18</td>\n",
       "      <td>328 days</td>\n",
       "    </tr>\n",
       "    <tr>\n",
       "      <th>986</th>\n",
       "      <td>1990-12-10</td>\n",
       "      <td>1992-12-16</td>\n",
       "      <td>737 days</td>\n",
       "    </tr>\n",
       "    <tr>\n",
       "      <th>990</th>\n",
       "      <td>1991-06-24</td>\n",
       "      <td>1996-02-02</td>\n",
       "      <td>1684 days</td>\n",
       "    </tr>\n",
       "    <tr>\n",
       "      <th>991</th>\n",
       "      <td>1991-09-09</td>\n",
       "      <td>1998-03-30</td>\n",
       "      <td>2394 days</td>\n",
       "    </tr>\n",
       "    <tr>\n",
       "      <th>993</th>\n",
       "      <td>1990-11-16</td>\n",
       "      <td>1998-04-27</td>\n",
       "      <td>2719 days</td>\n",
       "    </tr>\n",
       "    <tr>\n",
       "      <th>994</th>\n",
       "      <td>1993-06-03</td>\n",
       "      <td>1993-06-13</td>\n",
       "      <td>10 days</td>\n",
       "    </tr>\n",
       "    <tr>\n",
       "      <th>997</th>\n",
       "      <td>1990-01-04</td>\n",
       "      <td>1991-10-03</td>\n",
       "      <td>637 days</td>\n",
       "    </tr>\n",
       "  </tbody>\n",
       "</table>\n",
       "<p>501 rows × 3 columns</p>\n",
       "</div>"
      ],
      "text/plain": [
       "    order_date delivery_date delivery_time\n",
       "ID                                        \n",
       "1   1998-05-24    1999-02-05      257 days\n",
       "2   1992-04-22    1998-03-06     2144 days\n",
       "4   1991-02-10    1992-08-26      563 days\n",
       "5   1992-07-21    1997-11-20     1948 days\n",
       "7   1993-09-02    1998-06-10     1742 days\n",
       "8   1993-06-10    1993-11-11      154 days\n",
       "9   1990-01-25    1994-10-02     1711 days\n",
       "10  1992-02-23    1998-12-30     2502 days\n",
       "11  1996-07-12    1997-07-14      367 days\n",
       "18  1995-06-18    1997-10-13      848 days\n",
       "19  1998-05-10    1998-05-19        9 days\n",
       "20  1992-10-17    1998-10-06     2180 days\n",
       "23  1992-05-30    1999-08-15     2633 days\n",
       "26  1996-04-11    1998-05-04      753 days\n",
       "30  1998-10-22    1999-01-11       81 days\n",
       "32  1990-01-20    1998-07-24     3107 days\n",
       "33  1994-09-21    1996-10-12      752 days\n",
       "35  1993-09-10    1996-04-28      961 days\n",
       "36  1990-05-15    1994-02-14     1371 days\n",
       "39  1990-03-26    1993-01-25     1036 days\n",
       "41  1992-02-06    1996-05-10     1555 days\n",
       "46  1995-09-05    1996-07-19      318 days\n",
       "50  1991-05-03    1999-07-17     2997 days\n",
       "52  1994-09-02    1997-05-14      985 days\n",
       "53  1995-11-29    1998-06-23      937 days\n",
       "54  1996-08-07    1998-04-04      605 days\n",
       "58  1995-02-11    1995-04-16       64 days\n",
       "59  1995-09-29    1995-12-16       78 days\n",
       "60  1993-02-14    1995-08-06      903 days\n",
       "63  1990-12-22    1995-09-02     1715 days\n",
       "..         ...           ...           ...\n",
       "932 1997-07-25    1998-04-09      258 days\n",
       "934 1995-05-22    1995-07-11       50 days\n",
       "935 1990-09-26    1998-03-07     2719 days\n",
       "938 1993-03-24    1995-07-15      843 days\n",
       "939 1998-10-01    1998-12-07       67 days\n",
       "942 1992-04-14    1997-03-03     1784 days\n",
       "943 1991-01-30    1999-12-02     3228 days\n",
       "945 1992-10-27    1994-11-03      737 days\n",
       "946 1991-07-02    1996-02-23     1697 days\n",
       "947 1991-06-18    1999-06-11     2915 days\n",
       "949 1991-10-07    1992-01-07       92 days\n",
       "951 1991-10-02    1994-04-18      929 days\n",
       "953 1991-09-26    1994-05-08      955 days\n",
       "954 1993-08-08    1994-01-23      168 days\n",
       "956 1995-08-23    1999-01-10     1236 days\n",
       "957 1994-10-01    1999-07-25     1758 days\n",
       "958 1990-04-26    1997-06-29     2621 days\n",
       "969 1996-09-24    1996-11-16       53 days\n",
       "972 1990-02-07    1995-11-05     2097 days\n",
       "975 1997-06-18    1997-11-02      137 days\n",
       "981 1997-01-31    1998-03-04      397 days\n",
       "983 1994-12-30    1997-07-29      942 days\n",
       "984 1991-07-25    1999-02-09     2756 days\n",
       "985 1995-07-26    1996-06-18      328 days\n",
       "986 1990-12-10    1992-12-16      737 days\n",
       "990 1991-06-24    1996-02-02     1684 days\n",
       "991 1991-09-09    1998-03-30     2394 days\n",
       "993 1990-11-16    1998-04-27     2719 days\n",
       "994 1993-06-03    1993-06-13       10 days\n",
       "997 1990-01-04    1991-10-03      637 days\n",
       "\n",
       "[501 rows x 3 columns]"
      ]
     },
     "execution_count": 271,
     "metadata": {},
     "output_type": "execute_result"
    }
   ],
   "source": [
    "ecom[ecom[\"delivery_time\"] > \"300\"]"
   ]
  },
  {
   "cell_type": "markdown",
   "metadata": {},
   "source": [
    "----------------------------------------------------------------------------------------------------------------------------"
   ]
  }
 ],
 "metadata": {
  "kernelspec": {
   "display_name": "Python 3",
   "language": "python",
   "name": "python3"
  },
  "language_info": {
   "codemirror_mode": {
    "name": "ipython",
    "version": 3
   },
   "file_extension": ".py",
   "mimetype": "text/x-python",
   "name": "python",
   "nbconvert_exporter": "python",
   "pygments_lexer": "ipython3",
   "version": "3.6.6"
  }
 },
 "nbformat": 4,
 "nbformat_minor": 2
}
